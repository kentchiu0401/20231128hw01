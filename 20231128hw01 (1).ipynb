{
 "cells": [
  {
   "cell_type": "code",
   "execution_count": 6,
   "id": "e09da86d",
   "metadata": {},
   "outputs": [],
   "source": [
    "import pandas as pd\n",
    "\n",
    "# 引用自己的模組\n",
    "from tools import get_soup\n",
    "import requests"
   ]
  },
  {
   "cell_type": "code",
   "execution_count": 7,
   "id": "97de1120",
   "metadata": {},
   "outputs": [],
   "source": [
    "def crawl_normal_company_data(co):\n",
    "    api_url = 'https://mops.twse.com.tw/mops/web/ajax_t05st10_ifrs'\n",
    "    form_data = {'encodeURIComponent': '1',\n",
    "                 'step': '1',\n",
    "                 'firstin': '1',\n",
    "                 'off': '1',\n",
    "                 'keyword4': '',\n",
    "                 'code1': '',\n",
    "                 'TYPEK2': '',\n",
    "                 'checkbtn': '' ,\n",
    "                 'queryName': 'co_id',\n",
    "                 'inpuType': 'co_id',\n",
    "                 'TYPEK': 'all',\n",
    "                 'isnew': 'true',\n",
    "                 'co_id': co,\n",
    "                 'year': '',\n",
    "                 'month': ''}\n",
    "\n",
    "    soup = get_soup(api_url, form_data)\n",
    "    data = []\n",
    "    data.append(co)\n",
    "    data.append(soup.find_all('table')[1].find('td').text.strip()[13:-5])\n",
    "    data.append(soup.find_all('table')[3].find_all('tr')[1].find('td').text.strip())\n",
    "    data.append(soup.find_all('table')[3].find_all('tr')[4].find('td').text.strip())\n",
    "    data.append(soup.find_all('table')[3].find_all('tr')[8].find('td').text.strip())\n",
    "\n",
    "    return data\n",
    "\n"
   ]
  },
  {
   "cell_type": "code",
   "execution_count": 8,
   "id": "2e834854",
   "metadata": {
    "scrolled": true
   },
   "outputs": [
    {
     "name": "stdout",
     "output_type": "stream",
     "text": [
      "請輸入公司代碼：（按Enter結束）2303\n",
      "請輸入公司代碼：（按Enter結束）2302\n",
      "請輸入公司代碼：（按Enter結束）2881\n",
      "請輸入公司代碼：（按Enter結束）\n",
      "正爬取第1家公司 (2303) 的營收資料...\n",
      "正爬取第2家公司 (2302) 的營收資料...\n",
      "正爬取第3家公司 (2881) 的營收資料...\n",
      "網頁取得失敗 404\n",
      "   公司代號  公司名稱        本月營收 逐月成長率(%) 同期成長率(%)\n",
      "0  2303    聯電  19,191,382   -21.17   -20.60\n",
      "1  2302    麗正      50,480   -41.01   -15.71\n",
      "2  None  None        None     None     None\n"
     ]
    }
   ],
   "source": [
    "def crawl_special_company_data(co):\n",
    "    api_url = 'https://example.com/special_api'\n",
    "    form_data = {'co_id': co}\n",
    "\n",
    "    try:\n",
    "        soup = get_soup(api_url, form_data)\n",
    "        \n",
    "        # 在這裡加入解析網頁資料的程式碼\n",
    "        # ...\n",
    "\n",
    "        data = []  # 假設這裡是解析網頁資料的程式碼\n",
    "        # ...\n",
    "\n",
    "        return data\n",
    "    except Exception as e:\n",
    "        print(f'爬取公司 ({co}) 資料時發生錯誤: {str(e)}')\n",
    "        return None  # 返回 None 或其他適當的值，以區分錯誤狀態\n",
    "\n",
    "\n",
    "if __name__ == \"__main__\":\n",
    "    cos = []\n",
    "\n",
    "    while True:\n",
    "        co = input('請輸入公司代碼：（按Enter結束）')\n",
    "        if co == '':\n",
    "            break\n",
    "        else:\n",
    "            cos.append(co)\n",
    "\n",
    "    datas = []\n",
    "\n",
    "    for idx, co in enumerate(cos):\n",
    "        print(f'正爬取第{idx + 1}家公司 ({co}) 的營收資料...')\n",
    "        try:\n",
    "            if co == '2881':\n",
    "                data = crawl_special_company_data(co)\n",
    "            else:\n",
    "                data = crawl_normal_company_data(co)\n",
    "            \n",
    "            datas.append(data)\n",
    "        except Exception as e:\n",
    "            print(f'爬取公司 ({co}) 資料時發生錯誤: {str(e)}')\n",
    "\n",
    "    # 輸出表格\n",
    "    pf = pd.DataFrame(datas, columns=['公司代號', '公司名稱', '本月營收', '逐月成長率(%)', '同期成長率(%)'])\n",
    "    print(pf)"
   ]
  },
  {
   "cell_type": "code",
   "execution_count": 13,
   "id": "9d86adce",
   "metadata": {},
   "outputs": [],
   "source": [
    "import os\n",
    "\n",
    "pf.to_csv('rev.csv', index=False, encoding='utf-8-sig')"
   ]
  },
  {
   "cell_type": "code",
   "execution_count": null,
   "id": "b84a008a",
   "metadata": {},
   "outputs": [],
   "source": []
  }
 ],
 "metadata": {
  "kernelspec": {
   "display_name": "Python 3 (ipykernel)",
   "language": "python",
   "name": "python3"
  },
  "language_info": {
   "codemirror_mode": {
    "name": "ipython",
    "version": 3
   },
   "file_extension": ".py",
   "mimetype": "text/x-python",
   "name": "python",
   "nbconvert_exporter": "python",
   "pygments_lexer": "ipython3",
   "version": "3.11.4"
  }
 },
 "nbformat": 4,
 "nbformat_minor": 5
}
